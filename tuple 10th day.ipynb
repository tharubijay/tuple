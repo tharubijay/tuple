{
 "cells": [
  {
   "cell_type": "code",
   "execution_count": 1,
   "id": "eca26a75",
   "metadata": {},
   "outputs": [],
   "source": [
    "# Tuple\n",
    "# Indexing\n",
    "# multiple Values\n",
    "# Imutale"
   ]
  },
  {
   "cell_type": "code",
   "execution_count": 2,
   "id": "dc5fb1cb",
   "metadata": {},
   "outputs": [
    {
     "name": "stdout",
     "output_type": "stream",
     "text": [
      "<class 'tuple'>\n",
      "<class 'tuple'>\n"
     ]
    }
   ],
   "source": [
    "a = (1,2,3,4,5,6)\n",
    "b = (\"Apple\",\"Ball\",\"Cat\")\n",
    "print(type(a))\n",
    "print(type(b))"
   ]
  },
  {
   "cell_type": "code",
   "execution_count": 3,
   "id": "f1a2912b",
   "metadata": {},
   "outputs": [
    {
     "name": "stdout",
     "output_type": "stream",
     "text": [
      "('Apple', 'Ball', 'Cat')\n"
     ]
    }
   ],
   "source": [
    "b = (\"Apple\",\"Ball\",\"Cat\")\n",
    "print(b[0:3])"
   ]
  },
  {
   "cell_type": "code",
   "execution_count": 4,
   "id": "e1cb1c8f",
   "metadata": {},
   "outputs": [
    {
     "data": {
      "text/plain": [
       "('Dog', 'Cat', 'Apple', 'Ball', 'Cat')"
      ]
     },
     "execution_count": 4,
     "metadata": {},
     "output_type": "execute_result"
    }
   ],
   "source": [
    "b = (\"Apple\",\"Ball\",\"Cat\")\n",
    "a = (\"Dog\",\"Cat\")\n",
    "c = a+b\n",
    "c"
   ]
  },
  {
   "cell_type": "code",
   "execution_count": 5,
   "id": "f8d47b6f",
   "metadata": {},
   "outputs": [
    {
     "data": {
      "text/plain": [
       "('Apple', 'Ball', 'Cat', 'Apple', 'Ball', 'Cat')"
      ]
     },
     "execution_count": 5,
     "metadata": {},
     "output_type": "execute_result"
    }
   ],
   "source": [
    "b = (\"Apple\",\"Ball\",\"Cat\")\n",
    "b*2"
   ]
  },
  {
   "cell_type": "code",
   "execution_count": 6,
   "id": "e4d9c19e",
   "metadata": {},
   "outputs": [],
   "source": [
    "# No append() insert() extend()\n",
    "# No del pop() remove()\n",
    "# No update()\n",
    "# No sort"
   ]
  },
  {
   "cell_type": "code",
   "execution_count": null,
   "id": "bb385c19",
   "metadata": {},
   "outputs": [],
   "source": []
  },
  {
   "cell_type": "code",
   "execution_count": 7,
   "id": "2fc5c1fe",
   "metadata": {},
   "outputs": [
    {
     "data": {
      "text/plain": [
       "tuple"
      ]
     },
     "execution_count": 7,
     "metadata": {},
     "output_type": "execute_result"
    }
   ],
   "source": [
    " a = (\"Apple\",)  #coma is compulsary in single value in tuple\n",
    "type(a)"
   ]
  },
  {
   "cell_type": "code",
   "execution_count": 9,
   "id": "c384ff4e",
   "metadata": {},
   "outputs": [
    {
     "data": {
      "text/plain": [
       "('Apple',)"
      ]
     },
     "execution_count": 9,
     "metadata": {},
     "output_type": "execute_result"
    }
   ],
   "source": [
    "a = tuple()\n",
    "b = \"Apple\"\n",
    "a = a+(b,)\n",
    "a"
   ]
  },
  {
   "cell_type": "code",
   "execution_count": 10,
   "id": "fa4eac52",
   "metadata": {},
   "outputs": [
    {
     "data": {
      "text/plain": [
       "('Apple', 'Ball')"
      ]
     },
     "execution_count": 10,
     "metadata": {},
     "output_type": "execute_result"
    }
   ],
   "source": [
    "a = tuple()\n",
    "b = \"Apple\"\n",
    "c = \"Ball\"\n",
    "a = a+(b,)\n",
    "a = a+(c,)\n",
    "a"
   ]
  },
  {
   "cell_type": "code",
   "execution_count": 11,
   "id": "d0b0a7eb",
   "metadata": {},
   "outputs": [
    {
     "name": "stdout",
     "output_type": "stream",
     "text": [
      "Enter n = 5\n",
      "Enter n = 10\n",
      "Enter n = 15\n",
      "Enter n = 20\n",
      "Enter n = 25\n",
      "Enter n = 30\n",
      "(10, 15, 20, 25, 30)\n"
     ]
    }
   ],
   "source": [
    "t = tuple()\n",
    "n = int(input(\"Enter n = \"))\n",
    "for i in range(n):\n",
    "    x = int(input(\"Enter n = \"))\n",
    "    t = t+(x,)\n",
    "print(t)"
   ]
  },
  {
   "cell_type": "code",
   "execution_count": 1,
   "id": "00fee0a4",
   "metadata": {},
   "outputs": [
    {
     "name": "stdout",
     "output_type": "stream",
     "text": [
      "Ram\n",
      "syam\n",
      "HAri\n"
     ]
    }
   ],
   "source": [
    "a = (\"Ram\",\"syam\",\"HAri\")\n",
    "for i in a:\n",
    "    print(i)"
   ]
  },
  {
   "cell_type": "code",
   "execution_count": 2,
   "id": "ac656de5",
   "metadata": {},
   "outputs": [
    {
     "name": "stdout",
     "output_type": "stream",
     "text": [
      "yes\n"
     ]
    }
   ],
   "source": [
    "a = (\"ram\",\"shyam\",\"Hari\")\n",
    "if \"ram\" in a:\n",
    "    print(\"yes\")\n",
    "    "
   ]
  },
  {
   "cell_type": "code",
   "execution_count": 3,
   "id": "6ba2f83a",
   "metadata": {},
   "outputs": [
    {
     "data": {
      "text/plain": [
       "['Hari', 'ram', 'shyam']"
      ]
     },
     "execution_count": 3,
     "metadata": {},
     "output_type": "execute_result"
    }
   ],
   "source": [
    "a = (\"ram\",\"shyam\",\"Hari\")\n",
    "sorted(a)"
   ]
  },
  {
   "cell_type": "code",
   "execution_count": 4,
   "id": "b9f5a4d6",
   "metadata": {},
   "outputs": [],
   "source": [
    "# tuple inside tuple"
   ]
  },
  {
   "cell_type": "code",
   "execution_count": 5,
   "id": "928e3090",
   "metadata": {},
   "outputs": [
    {
     "name": "stdout",
     "output_type": "stream",
     "text": [
      "Enter n = 3\n",
      "Enter x = 12\n",
      "Enter y = 13\n",
      "Enter z = 45\n",
      "Enter x = 32\n",
      "Enter y = 65\n",
      "Enter z = 78\n",
      "Enter x = 98\n",
      "Enter y = 52\n",
      "Enter z = 45\n",
      "((12, 13, 45), (32, 65, 78), (98, 52, 45))\n"
     ]
    }
   ],
   "source": [
    "# t = ((1,2,3),(4,5,6),(7,8,9))\n",
    "\n",
    "t = tuple()\n",
    "n = int(input(\"Enter n = \"))\n",
    "for i in range(n):\n",
    "    x = int(input(\"Enter x = \"))\n",
    "    y = int(input(\"Enter y = \"))\n",
    "    z = int(input(\"Enter z = \"))\n",
    "    \n",
    "    t = t+((x,y,z),)\n",
    "print(t)"
   ]
  },
  {
   "cell_type": "code",
   "execution_count": 6,
   "id": "7265caa0",
   "metadata": {},
   "outputs": [
    {
     "name": "stdout",
     "output_type": "stream",
     "text": [
      "[12, 13, 45]\n",
      "[32, 65, 78]\n",
      "[98, 52, 45]\n"
     ]
    }
   ],
   "source": [
    "t = ((12, 13, 45), (32, 65, 78), (98, 52, 45))\n",
    "for i in t:\n",
    "    print(list(i))"
   ]
  },
  {
   "cell_type": "code",
   "execution_count": 8,
   "id": "98f60fb4",
   "metadata": {},
   "outputs": [
    {
     "name": "stdout",
     "output_type": "stream",
     "text": [
      "[[12, 13, 45], [32, 65, 78], [98, 52, 45]]\n"
     ]
    }
   ],
   "source": [
    "l = []\n",
    "t = ((12, 13, 45), (32, 65, 78), (98, 52, 45))\n",
    "for i in t:\n",
    "    l.append(list(i))\n",
    "print(l)\n",
    "   "
   ]
  },
  {
   "cell_type": "code",
   "execution_count": 11,
   "id": "7f21b2fe",
   "metadata": {},
   "outputs": [
    {
     "name": "stdout",
     "output_type": "stream",
     "text": [
      "((12, 13, 45), (32, 65, 78), (98, 52, 45))\n"
     ]
    }
   ],
   "source": [
    "t = tuple()\n",
    "l = [[12, 13, 45], [32, 65, 78], [98, 52, 45]]\n",
    "for i in l:\n",
    "    t = t+(tuple(i),)\n",
    "print(t)"
   ]
  },
  {
   "cell_type": "code",
   "execution_count": 12,
   "id": "ef422fa3",
   "metadata": {},
   "outputs": [
    {
     "data": {
      "text/plain": [
       "[(12, 13, 45), (32, 65, 78), (98, 52, 45)]"
      ]
     },
     "execution_count": 12,
     "metadata": {},
     "output_type": "execute_result"
    }
   ],
   "source": [
    "t = ((12, 13, 45), (32, 65, 78), (98, 52, 45))\n",
    "t = list(t)\n",
    "t"
   ]
  },
  {
   "cell_type": "code",
   "execution_count": 13,
   "id": "4dc00d35",
   "metadata": {},
   "outputs": [
    {
     "data": {
      "text/plain": [
       "[(12, 13, 45), (32, 65, 78), (98, 52, 45), (1, 2, 3)]"
      ]
     },
     "execution_count": 13,
     "metadata": {},
     "output_type": "execute_result"
    }
   ],
   "source": [
    "t.append((1,2,3))\n",
    "t"
   ]
  },
  {
   "cell_type": "code",
   "execution_count": 14,
   "id": "0d12865e",
   "metadata": {},
   "outputs": [
    {
     "data": {
      "text/plain": [
       "[(32, 65, 78), (98, 52, 45), (1, 2, 3)]"
      ]
     },
     "execution_count": 14,
     "metadata": {},
     "output_type": "execute_result"
    }
   ],
   "source": [
    "del t[0]\n",
    "t"
   ]
  },
  {
   "cell_type": "code",
   "execution_count": null,
   "id": "f07c9011",
   "metadata": {},
   "outputs": [],
   "source": []
  }
 ],
 "metadata": {
  "kernelspec": {
   "display_name": "Python 3 (ipykernel)",
   "language": "python",
   "name": "python3"
  },
  "language_info": {
   "codemirror_mode": {
    "name": "ipython",
    "version": 3
   },
   "file_extension": ".py",
   "mimetype": "text/x-python",
   "name": "python",
   "nbconvert_exporter": "python",
   "pygments_lexer": "ipython3",
   "version": "3.9.12"
  }
 },
 "nbformat": 4,
 "nbformat_minor": 5
}
